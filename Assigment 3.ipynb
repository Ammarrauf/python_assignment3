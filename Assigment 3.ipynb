{
 "cells": [
  {
   "cell_type": "markdown",
   "id": "ed37a083",
   "metadata": {},
   "source": [
    "## Answer 1"
   ]
  },
  {
   "cell_type": "code",
   "execution_count": 6,
   "id": "4b7372f4",
   "metadata": {},
   "outputs": [
    {
     "name": "stdout",
     "output_type": "stream",
     "text": [
      "yyy\n",
      "          uuuu \n"
     ]
    }
   ],
   "source": [
    "print(\"yyy\\n          uuuu \")"
   ]
  },
  {
   "cell_type": "code",
   "execution_count": 7,
   "id": "ee8f2723",
   "metadata": {},
   "outputs": [
    {
     "name": "stdout",
     "output_type": "stream",
     "text": [
      "3.8.8\n"
     ]
    }
   ],
   "source": [
    "from platform import python_version\n",
    "\n",
    "print(python_version())"
   ]
  },
  {
   "cell_type": "code",
   "execution_count": 8,
   "id": "6df6c4e8",
   "metadata": {},
   "outputs": [
    {
     "name": "stdout",
     "output_type": "stream",
     "text": [
      "2021-10-23 20:38:20.543668\n"
     ]
    }
   ],
   "source": [
    "import datetime\n",
    "\n",
    "x = datetime.datetime.now()\n",
    "print(x)"
   ]
  },
  {
   "cell_type": "code",
   "execution_count": 9,
   "id": "a8782b00",
   "metadata": {},
   "outputs": [],
   "source": [
    "radius = 9\n",
    "area = 3.14*radius**2"
   ]
  },
  {
   "cell_type": "code",
   "execution_count": 10,
   "id": "f1528d06",
   "metadata": {},
   "outputs": [
    {
     "data": {
      "text/plain": [
       "254.34"
      ]
     },
     "execution_count": 10,
     "metadata": {},
     "output_type": "execute_result"
    }
   ],
   "source": [
    "area"
   ]
  },
  {
   "cell_type": "code",
   "execution_count": 19,
   "id": "ccca419e",
   "metadata": {},
   "outputs": [],
   "source": [
    "name = \"ammar rauf\""
   ]
  },
  {
   "cell_type": "code",
   "execution_count": 22,
   "id": "1f3b0598",
   "metadata": {},
   "outputs": [],
   "source": [
    "namelist = name.split(\" \")"
   ]
  },
  {
   "cell_type": "code",
   "execution_count": 23,
   "id": "a97a7544",
   "metadata": {},
   "outputs": [
    {
     "name": "stdout",
     "output_type": "stream",
     "text": [
      "rauf ammar\n"
     ]
    }
   ],
   "source": [
    "print(namelist[1] + \" \"+ namelist[0])"
   ]
  },
  {
   "cell_type": "code",
   "execution_count": 25,
   "id": "fd6a2f84",
   "metadata": {},
   "outputs": [
    {
     "name": "stdout",
     "output_type": "stream",
     "text": [
      "Number A :9\n",
      "Number B :7\n",
      "The sum of A and B is  16\n"
     ]
    }
   ],
   "source": [
    "a = int(input(\"Number A :\"))\n",
    "b = int(input(\"Number B :\"))\n",
    "print(\"The sum of A and B is \",a+b)"
   ]
  },
  {
   "cell_type": "code",
   "execution_count": 45,
   "id": "5d85fca9",
   "metadata": {},
   "outputs": [
    {
     "name": "stdout",
     "output_type": "stream",
     "text": [
      "Number A :50\n",
      "Number A :50\n",
      "Number A :50\n",
      "Number A :50\n",
      "Number A :05\n",
      "Grade D\n"
     ]
    }
   ],
   "source": [
    "maths=int(input(\"Number A :\"))\n",
    "English=int(input(\"Number A :\"))\n",
    "islamit=int(input(\"Number A :\"))\n",
    "urdu=int(input(\"Number A :\"))\n",
    "science=int(input(\"Number A :\"))\n",
    "totalmarks =500\n",
    "marksobtained=(maths+English+islamit+urdu+science);\n",
    "percentage=marksobtained/totalmarks*100  \n",
    "if percentage < 100 and percentage >= 80: \n",
    "     print(\"A-one\");\n",
    "elif percentage < 80 and percentage >= 70 :\n",
    "    print (\"Grade A\");\n",
    "elif percentage < 70 and percentage >= 60 :\n",
    "    print(\"Grade B\"); \n",
    "elif percentage < 60 and percentage >= 50 :\n",
    "        print(\"Grade c\");\n",
    "elif percentage < 50 and percentage >= 40 :\n",
    "    print(\"Grade D\");\n",
    "else:\n",
    "    print (\"you ate fail\");\n",
    "        "
   ]
  },
  {
   "cell_type": "code",
   "execution_count": 27,
   "id": "90f8da87",
   "metadata": {},
   "outputs": [
    {
     "name": "stdout",
     "output_type": "stream",
     "text": [
      "Enter Number to check it even or odd :4\n",
      "the number is even\n"
     ]
    }
   ],
   "source": [
    "a = int(input(\"Enter Number to check it even or odd :\"))\n",
    "if a%2==0:\n",
    "    print(\"the number is even\")\n",
    "else:\n",
    "    print(\"the number is odd\")"
   ]
  },
  {
   "cell_type": "code",
   "execution_count": 30,
   "id": "b578c8b0",
   "metadata": {},
   "outputs": [],
   "source": [
    "a = [1,3,4,68,3]"
   ]
  },
  {
   "cell_type": "code",
   "execution_count": 31,
   "id": "5f49c751",
   "metadata": {},
   "outputs": [
    {
     "data": {
      "text/plain": [
       "5"
      ]
     },
     "execution_count": 31,
     "metadata": {},
     "output_type": "execute_result"
    }
   ],
   "source": [
    "len(a)"
   ]
  },
  {
   "cell_type": "code",
   "execution_count": 40,
   "id": "7573e4b8",
   "metadata": {},
   "outputs": [
    {
     "data": {
      "text/plain": [
       "79"
      ]
     },
     "execution_count": 40,
     "metadata": {},
     "output_type": "execute_result"
    }
   ],
   "source": [
    "a = [1,3,4,68,3]\n",
    "sum(a)"
   ]
  },
  {
   "cell_type": "code",
   "execution_count": 41,
   "id": "fbdcb73f",
   "metadata": {},
   "outputs": [
    {
     "data": {
      "text/plain": [
       "68"
      ]
     },
     "execution_count": 41,
     "metadata": {},
     "output_type": "execute_result"
    }
   ],
   "source": [
    "max(a)"
   ]
  },
  {
   "cell_type": "code",
   "execution_count": 44,
   "id": "dc0fb954",
   "metadata": {},
   "outputs": [
    {
     "name": "stdout",
     "output_type": "stream",
     "text": [
      "1\n",
      "1\n",
      "2\n",
      "3\n"
     ]
    }
   ],
   "source": [
    "a = [1,1,2,3,5,8,13,21,34,55,89]\n",
    "for i in a:\n",
    "    if i < 5:\n",
    "        print(i)"
   ]
  },
  {
   "cell_type": "code",
   "execution_count": null,
   "id": "c33bed04",
   "metadata": {},
   "outputs": [],
   "source": []
  }
 ],
 "metadata": {
  "kernelspec": {
   "display_name": "Python 3",
   "language": "python",
   "name": "python3"
  },
  "language_info": {
   "codemirror_mode": {
    "name": "ipython",
    "version": 3
   },
   "file_extension": ".py",
   "mimetype": "text/x-python",
   "name": "python",
   "nbconvert_exporter": "python",
   "pygments_lexer": "ipython3",
   "version": "3.8.8"
  }
 },
 "nbformat": 4,
 "nbformat_minor": 5
}
